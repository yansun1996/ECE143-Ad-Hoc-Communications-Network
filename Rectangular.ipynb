{
 "cells": [
  {
   "cell_type": "markdown",
   "metadata": {},
   "source": [
    "# Problem Statement"
   ]
  },
  {
   "cell_type": "markdown",
   "metadata": {},
   "source": [
    "# Analysis of Ad-Hoc Communications Network\n",
    "\n",
    "You have been asked to help with planning an ad-hoc communications network over a large rectangular region. Each individual tower can monitor a rectangular subsection of a specific width and height. The main problem is that none of the individual towers can provide coverage for the entire region of interest. Communications towers are unreliable and are put up independently and at random. You have no control over where or how big a tower’s footprint is placed. Importantly, due to technical issues such as cross-talk, no individual rectangular subsection can have multiple towers providing coverage for it. That is, there can be no overlap between any pair of rectangular subsections provided by the two respective towers. In any case, the desire is to maximize the coverage area of any available communications tower.\n",
    "\n",
    "The order of when the towers come online is important. Once a tower has acquired its rectangular section, no subsequent tower can overlap that section. You may assume the following for this problem:\n",
    "\n",
    "* All rectangular sections have integer-based corners.\n",
    "* All rectangular sections must be contained in the overall rectangular footprint.\n",
    "* The height and width of each rectangular section is sampled from a uniform distribution.\n",
    "* Positions of the windows are also determined by uniform random distribution.\n",
    "* All footprints must be rectangles (not general polygons).\n",
    "* When a new tower comes online, if its coverage rectangle intersects the pre-existing composite footprint, then that new tower’s coverage is trimmed such that its maximum remaining coverage area is retained.\n",
    "\n",
    "Write a detailed Jupyter notebook that implements a solution to this problem such that the user can supply the following overall size of desired coverage footprint and then determine the following:\n",
    "\n",
    "* Given an overall desired coverage footprint and a sequence of n communications towers, what is the resulting resolved coverage?\n",
    "* What is the total area of coverage relative to the desired total coverage area of the original footprint? That is, are there any gaps in coverage?\n",
    "* On average, how many communications towers are required before full coverage is obtained?\n"
   ]
  },
  {
   "cell_type": "markdown",
   "metadata": {},
   "source": [
    "# Import"
   ]
  },
  {
   "cell_type": "markdown",
   "metadata": {},
   "source": [
    "### Required Module\n",
    "* random\n",
    "* numpy\n",
    "* matplotlib "
   ]
  },
  {
   "cell_type": "code",
   "execution_count": 74,
   "metadata": {},
   "outputs": [],
   "source": [
    "import random\n",
    "import warnings\n",
    "import numpy as np\n",
    "import matplotlib.pyplot as plt\n",
    "import matplotlib.patches as mp"
   ]
  },
  {
   "cell_type": "markdown",
   "metadata": {},
   "source": [
    "# Define Class"
   ]
  },
  {
   "cell_type": "markdown",
   "metadata": {},
   "source": [
    "### Class definition for Region"
   ]
  },
  {
   "cell_type": "code",
   "execution_count": 78,
   "metadata": {},
   "outputs": [],
   "source": [
    "class Region(object):\n",
    "    '''\n",
    "    Region class: Define an ad-hoc communication network and run related analysis\n",
    "    \n",
    "    Data:\n",
    "        x_range, y_range: int, the size of rectangular overall communication network\n",
    "        map: np.ndarray, the map of communication network contains coverage situation\n",
    "    '''\n",
    "    def __init__(self, m, n):\n",
    "        '''\n",
    "        Create Region with user defined size m * n.\n",
    "        \n",
    "        params:\n",
    "            m,n: int > 0\n",
    "        '''\n",
    "        assert isinstance(m,int), \"m must be int\"\n",
    "        assert isinstance(n,int), \"n must be int\"\n",
    "        assert (m>0) and (n>0), \"Please set m>0 and n>0\"\n",
    "        \n",
    "        self.x_range = m\n",
    "        self.y_range = n\n",
    "        self.map = np.zeros((self.x_range,self.y_range))\n",
    "        \n",
    "        self.max_tower = m * n\n",
    "        self.max_coverage = m * n\n",
    "        self.tower = []\n",
    "        self.sub_rectangle = []\n",
    "        \n",
    "    def show_map(self, size = 5, text = False, font_size = 10):\n",
    "        '''\n",
    "        Print Current Region Map\n",
    "        \n",
    "        params: (optional)\n",
    "            size: int > 0 (self-defined figure size for output)\n",
    "            text: bool (whether print index of tower or not)\n",
    "            font_size: int > 0 (self-defined font size if needed to be printed)\n",
    "        '''\n",
    "        assert isinstance(size,int), \"Size parameter must be int\"\n",
    "        assert isinstance(text,bool), \"Please set whether show text or not as a bool parameter\"\n",
    "        assert isinstance(font_size,int), \"font_size must be int\"\n",
    "        assert size>0, \"Please set size>0\"\n",
    "        assert font_size>0, \"Please set font_size>0\"\n",
    "        warnings.filterwarnings(\"ignore\")\n",
    "        \n",
    "        # Set Basic Plot parameters\n",
    "        plt.figure(figsize = (size,size))\n",
    "        plt.xlim(xmin = 0, xmax = self.x_range)\n",
    "        plt.ylim(ymin = 0, ymax = self.y_range)\n",
    "        if self.get_tower_num() == 0: return # No tower\n",
    "        \n",
    "        # Plot with different color for each tower\n",
    "        np.random.seed(233)\n",
    "        ax = plt.subplot()\n",
    "        for num in range(1,self.get_tower_num()+1):\n",
    "            random_color = np.random.random(3)\n",
    "            for i in range(self.x_range):\n",
    "                for j in range(self.y_range):\n",
    "                    if text:\n",
    "                        plt.text(i+0.5,j+0.5,self.map[i,j],\n",
    "                         horizontalalignment='center',\n",
    "                         verticalalignment='center',\n",
    "                         fontsize = font_size)\n",
    "                    if self.map[i][j] == num:\n",
    "                        ax.add_patch(mp.Rectangle((i, j),1,1,alpha=0.5,color=random_color,zorder = i))\n",
    "        plt.show()\n",
    "\n",
    "    def add_tower(self, x, y, size_x, size_y):\n",
    "        '''\n",
    "        Add new tower\n",
    "        x,y is the bottom left point of the rectangular area\n",
    "        \n",
    "        params:\n",
    "            x, y: The position of new tower\n",
    "            size_x, size_y: define size of rectangular area\n",
    "        '''\n",
    "        assert isinstance(x,int) and isinstance(y,int), \"x and y must be int\"\n",
    "        assert isinstance(size_x,int) and isinstance(size_y,int), \"size_x and size_y must be int\"\n",
    "        assert x>=0 and x<self.x_range+1, \"Please set 0<=x<\"+str(self.x_range+1)\n",
    "        assert y>=0 and y<self.y_range+1, \"Please set 0<=y<\"+str(self.y_range+1)\n",
    "        assert size_x>0 and x+size_x<=self.x_range, \"Please set size_x > 0 and x+size_x <= \"+str(self.x_range)\n",
    "        assert size_y>0 and y+size_y<=self.y_range, \"Please set size_y > 0 and y+size_y <= \"+str(self.y_range)\n",
    "        \n",
    "        # Get target area\n",
    "        target_area = self.map[x:x+size_x, y:y+size_y]\n",
    "        \n",
    "        # Check blank area for new tower\n",
    "        if np.sum((target_area == 0)) == 0:\n",
    "            pass # No un-covered area in target area, cannot add new tower's subsection\n",
    "        else:\n",
    "            # Trim: find maximal blank area for adding new tower's subsection\n",
    "            max_loc = self.find_max_rectangle(target_area)\n",
    "            xmin, xmax, ymin, ymax = max_loc[0]+x, max_loc[1]+x, max_loc[2]+y, max_loc[3]+y\n",
    "\n",
    "            # Add tower and its subsection\n",
    "            for i in range(xmin,xmax+1):\n",
    "                for j in range(ymin,ymax+1):\n",
    "                    self.map[i][j] = self.get_tower_num() + 1\n",
    "                    \n",
    "            # Store information in class\n",
    "            self.tower.append((xmin,ymin))\n",
    "            self.sub_rectangle.append((xmax-xmin+1,ymax-ymin+1))\n",
    "        \n",
    "    def find_max_rectangle(self, np_map):\n",
    "        '''\n",
    "        During adding new tower\n",
    "        Find max blank rectangular area for trimming\n",
    "\n",
    "        param: \n",
    "            np_map: np.array (target area)\n",
    "        return:\n",
    "            maximal blank rectangular area in target area\n",
    "            xmin, xmax, ymin, ymax: corresponded location\n",
    "        '''\n",
    "        assert isinstance(np_map,np.ndarray)\n",
    "        assert len(np_map)>0, \"Your target area includes nothing\"\n",
    "\n",
    "        maxArea = -1\n",
    "        # Search line by line to crreate histogram\n",
    "        for i in range(len(np_map)):\n",
    "            row_hist = []\n",
    "            \n",
    "            # Count histogram and save into row_list\n",
    "            for j in range(len(np_map[i])):\n",
    "                if i==0: \n",
    "                    if np_map[i][j] == 0:\n",
    "                        row_hist.append(1) \n",
    "                    else:\n",
    "                        row_hist.append(0)\n",
    "                else:\n",
    "                    if np_map[i][j]!=0:\n",
    "                        row_hist.append(0)\n",
    "                    else:\n",
    "                        # Count height for each column in one row\n",
    "                        tmp = 0\n",
    "                        for k in range(i,-1,-1):\n",
    "                            if np_map[k][j] != 0: \n",
    "                                break\n",
    "                            else:\n",
    "                                tmp += 1\n",
    "                        row_hist.append(tmp)\n",
    "\n",
    "            # Get largest rectangular area in this line's histogram\n",
    "            area, start_idx, height, width = self.largest_hist_area(row_hist)\n",
    "            if area > maxArea:\n",
    "                maxArea = area\n",
    "                xmax_ref = i\n",
    "                ymax_ref = start_idx\n",
    "                xmin_ref = xmax_ref - height\n",
    "                ymin_ref = ymax_ref - width\n",
    "\n",
    "        # The returned value is the relative position in target area\n",
    "        # Not the absolute position in map\n",
    "        return xmin_ref, xmax_ref, ymin_ref, ymax_ref\n",
    "    \n",
    "    def largest_hist_area(self, height):\n",
    "        '''\n",
    "        Find the largest rectangular area in a histogram\n",
    "        Used for each line in the region map\n",
    "        \n",
    "        param:\n",
    "            height: list (each element means the height at that position)\n",
    "        '''\n",
    "        assert isinstance(height,list), \"parameter height must be a list\"\n",
    "        assert len(height)>0, \"height list is empty\"\n",
    "        \n",
    "        height.append(0)\n",
    "        stack = [-1]\n",
    "        maxArea = 0\n",
    "        save_idx = -1\n",
    "        save_h = -1\n",
    "        save_w = -1\n",
    "        for i in range(len(height)):\n",
    "            while height[i] < height[stack[-1]]:\n",
    "                h = height[stack.pop()]\n",
    "                w = i - stack[-1] - 1\n",
    "                if h * w > maxArea:\n",
    "                    maxArea = h * w\n",
    "                    save_idx = i\n",
    "                    save_h = h\n",
    "                    save_w = w\n",
    "            stack.append(i)\n",
    "        height.pop()\n",
    "        if maxArea == 0: return 0,0,0,0\n",
    "        return maxArea, save_idx-1, save_h-1, save_w-1\n",
    "        \n",
    "    def get_tower_num(self):\n",
    "        '''\n",
    "        Get current number of tower in region\n",
    "        '''\n",
    "        return len(self.tower)\n",
    "    \n",
    "    def get_cover_area(self):\n",
    "        '''\n",
    "        Get current covered area\n",
    "        '''\n",
    "        return np.sum(self.map!=0)\n",
    "        \n",
    "    def auto_fill(self, max_try, n_tower, final_cover):\n",
    "        '''\n",
    "        Auto fill process with given number of towers and desired coverage\n",
    "        \n",
    "        params:\n",
    "            max_try: int > 0, max number of random generating during one experiment\n",
    "            n_tower: int > 0, number of towers given\n",
    "            final_cover: int > 0 and <= self.max_coverage\n",
    "        return:\n",
    "            try_count: int, number of generating towers in one auto_fill process\n",
    "        '''\n",
    "        assert isinstance(max_try,int)\n",
    "        assert isinstance(n_tower,int)\n",
    "        assert isinstance(final_cover,int)\n",
    "        assert max_try>0, \"Please set max_try>0\"\n",
    "        assert n_tower>0, \"Please set n_tower>0\"\n",
    "        assert final_cover>0 and final_cover<=self.max_coverage, \"Please set 0<final_cover<=\"+str(self.max_coverage)\n",
    "        \n",
    "        # Start adding tower\n",
    "        try_count = 0\n",
    "        while try_count < max_try:\n",
    "            # Check finish condition\n",
    "            if self.get_tower_num() == self.max_tower: \n",
    "                #print(\"Fullfilled !\")\n",
    "                break # Already Fullfilled\n",
    "            if self.get_tower_num() == n_tower: \n",
    "                #print(\"Reach limitation for number of towers !\")\n",
    "                break # Reach number of tower limitation\n",
    "            if final_cover <= self.get_cover_area(): \n",
    "                #print(\"Meet requirement for desired coverage !\")\n",
    "                break # Reach desired coverage\n",
    "                \n",
    "            # Generate tower position and coverage randomly\n",
    "            # Based on uniform distribution\n",
    "            x_tmp = random.randint(0,self.x_range-1)\n",
    "            y_tmp = random.randint(0,self.y_range-1)\n",
    "            x_len_tmp = random.randint(1,self.x_range-x_tmp)\n",
    "            y_len_tmp = random.randint(1,self.y_range-y_tmp)\n",
    "            self.add_tower(x_tmp, y_tmp, x_len_tmp, y_len_tmp)\n",
    "            try_count += 1\n",
    "            \n",
    "        return try_count\n",
    "            \n",
    "    def reset_map(self):\n",
    "        '''\n",
    "        Reset map to initial state\n",
    "        Primarily used in batch expriment\n",
    "        '''\n",
    "        self.map = np.zeros((self.x_range,self.y_range))\n",
    "        self.tower = []\n",
    "        self.sub_rectangle = []\n",
    "            \n",
    "    def batch_experiment(self, n_exp, try_limit, tower_limit, desired_cover):\n",
    "        '''\n",
    "        Run n_exp times auto_fill experiment\n",
    "        \n",
    "        params:\n",
    "            n_exp: int > 0 (number of experiment)\n",
    "            try_limit: int > 0 (limitation for times of tower generation in each experiment)\n",
    "            tower_limit: int > 0 (limitation for number of towers in the map of each experiment)\n",
    "            desired_cover: int > 0 and <= self.max_coverage (user-defined desired coverage)\n",
    "        return:\n",
    "            num_try_record: list (contains times of generating towers in the map of each experiment)\n",
    "            num_tower_record: list (contains final number of towers in the map of each experiment)\n",
    "            coverage_record: list (contains final coverage in map of each experiment)\n",
    "        '''\n",
    "        assert isinstance(n_exp,int), \"n_exp must be int\"\n",
    "        assert n_exp>0, \"Please set n_exp>0\"\n",
    "        \n",
    "        num_try_record = []\n",
    "        num_tower_record = []\n",
    "        coverage_record = []\n",
    "        self.reset_map()\n",
    "        \n",
    "        for count in range(n_exp):\n",
    "            n_try = self.auto_fill(try_limit, tower_limit, desired_cover)\n",
    "            num_try_record.append(n_try)\n",
    "            num_tower_record.append(self.get_tower_num())\n",
    "            coverage_record.append(self.get_cover_area())\n",
    "            self.reset_map()\n",
    "            \n",
    "        return num_try_record, num_tower_record, coverage_record\n",
    "        \n",
    "        "
   ]
  },
  {
   "cell_type": "markdown",
   "metadata": {},
   "source": [
    "# Basic Example\n",
    "\n",
    "This part will show you how to use the Region class"
   ]
  },
  {
   "cell_type": "markdown",
   "metadata": {},
   "source": [
    "Build the object, define the size yourself"
   ]
  },
  {
   "cell_type": "code",
   "execution_count": 84,
   "metadata": {},
   "outputs": [],
   "source": [
    "net = Region(9,9)"
   ]
  },
  {
   "cell_type": "markdown",
   "metadata": {},
   "source": [
    "Add operation (Maximal Rectangle Detection included)\n",
    "\n",
    "Tower position is defined as ```bottom left point``` of one unit rectangle area\n",
    "\n",
    "The size of subsection for this tower is also needed\n",
    "\n",
    "params:\n",
    "    ```(x_tower, y_tower, size_x, size_y)```"
   ]
  },
  {
   "cell_type": "code",
   "execution_count": 85,
   "metadata": {},
   "outputs": [
    {
     "data": {
      "image/png": "[encoded data removed]",
      "text/plain": [
       "<Figure size 360x360 with 1 Axes>"
      ]
     },
     "metadata": {},
     "output_type": "display_data"
    }
   ],
   "source": [
    "net.add_tower(1,0,2,3)\n",
    "net.show_map()"
   ]
  },
  {
   "cell_type": "markdown",
   "metadata": {},
   "source": [
    "Add another tower (No overlap situation)"
   ]
  },
  {
   "cell_type": "code",
   "execution_count": 86,
   "metadata": {},
   "outputs": [
    {
     "data": {
      "image/png": "[encoded data removed]",
      "text/plain": [
       "<Figure size 360x360 with 1 Axes>"
      ]
     },
     "metadata": {},
     "output_type": "display_data"
    }
   ],
   "source": [
    "net.add_tower(5,5,2,2)\n",
    "net.show_map()"
   ]
  },
  {
   "cell_type": "markdown",
   "metadata": {},
   "source": [
    "Add another tower (Overlap Situation)\n",
    "\n",
    "The new Rectangle area will be trimmed automatically"
   ]
  },
  {
   "cell_type": "code",
   "execution_count": 87,
   "metadata": {},
   "outputs": [
    {
     "data": {
      "image/png": "[encoded data removed]",
      "text/plain": [
       "<Figure size 360x360 with 1 Axes>"
      ]
     },
     "metadata": {},
     "output_type": "display_data"
    }
   ],
   "source": [
    "net.add_tower(2,2,3,3)\n",
    "net.show_map()"
   ]
  },
  {
   "cell_type": "markdown",
   "metadata": {},
   "source": [
    "You can also use some helpful functions to: \n",
    "\n",
    "* check the current number of towers with effective sub-rectangle area \n",
    "* check the current number of covered area"
   ]
  },
  {
   "cell_type": "code",
   "execution_count": 94,
   "metadata": {},
   "outputs": [
    {
     "name": "stdout",
     "output_type": "stream",
     "text": [
      "3\n",
      "16\n"
     ]
    }
   ],
   "source": [
    "print(net.get_tower_num())\n",
    "print(net.get_cover_area())"
   ]
  },
  {
   "cell_type": "markdown",
   "metadata": {},
   "source": [
    "Use the reset_map function to clean up the current Region if you need"
   ]
  },
  {
   "cell_type": "code",
   "execution_count": 95,
   "metadata": {},
   "outputs": [
    {
     "name": "stdout",
     "output_type": "stream",
     "text": [
      "0\n",
      "0\n"
     ]
    },
    {
     "data": {
      "image/png": "[encoded data removed]",
      "text/plain": [
       "<Figure size 360x360 with 1 Axes>"
      ]
     },
     "metadata": {},
     "output_type": "display_data"
    }
   ],
   "source": [
    "net.reset_map()\n",
    "net.show_map()\n",
    "print(net.get_tower_num())\n",
    "print(net.get_cover_area())"
   ]
  },
  {
   "cell_type": "markdown",
   "metadata": {},
   "source": [
    "# Automatic Example"
   ]
  },
  {
   "cell_type": "markdown",
   "metadata": {},
   "source": [
    "The Region class also supports the auto add tower process and even the function for massive times of experiments\n",
    "\n",
    "This part will show you how to use these functions"
   ]
  },
  {
   "cell_type": "markdown",
   "metadata": {},
   "source": [
    "Initially define the network object"
   ]
  },
  {
   "cell_type": "code",
   "execution_count": 102,
   "metadata": {},
   "outputs": [],
   "source": [
    "net = Region(8,7)"
   ]
  },
  {
   "cell_type": "markdown",
   "metadata": {},
   "source": [
    "Start the auto fill process\n",
    "\n",
    "params:\n",
    "    ```(max_try, limit_num_towers, desired_cover)```"
   ]
  },
  {
   "cell_type": "code",
   "execution_count": 103,
   "metadata": {},
   "outputs": [
    {
     "data": {
      "image/png": "[encoded data removed]",
      "text/plain": [
       "<Figure size 360x360 with 1 Axes>"
      ]
     },
     "metadata": {},
     "output_type": "display_data"
    }
   ],
   "source": [
    "net.auto_fill(999,56,56) # 56 is full-covered situation for this 8*7 region network\n",
    "net.show_map()"
   ]
  },
  {
   "cell_type": "code",
   "execution_count": 105,
   "metadata": {},
   "outputs": [
    {
     "name": "stdout",
     "output_type": "stream",
     "text": [
      "11\n",
      "56\n"
     ]
    }
   ],
   "source": [
    "print(net.get_tower_num())\n",
    "print(net.get_cover_area())"
   ]
  },
  {
   "cell_type": "code",
   "execution_count": null,
   "metadata": {},
   "outputs": [],
   "source": []
  },
  {
   "cell_type": "code",
   "execution_count": null,
   "metadata": {},
   "outputs": [],
   "source": []
  },
  {
   "cell_type": "code",
   "execution_count": null,
   "metadata": {},
   "outputs": [],
   "source": []
  },
  {
   "cell_type": "code",
   "execution_count": null,
   "metadata": {},
   "outputs": [],
   "source": []
  },
  {
   "cell_type": "code",
   "execution_count": null,
   "metadata": {},
   "outputs": [],
   "source": []
  },
  {
   "cell_type": "code",
   "execution_count": null,
   "metadata": {},
   "outputs": [],
   "source": []
  },
  {
   "cell_type": "code",
   "execution_count": null,
   "metadata": {},
   "outputs": [],
   "source": []
  },
  {
   "cell_type": "code",
   "execution_count": null,
   "metadata": {},
   "outputs": [],
   "source": []
  },
  {
   "cell_type": "code",
   "execution_count": null,
   "metadata": {},
   "outputs": [],
   "source": []
  },
  {
   "cell_type": "code",
   "execution_count": 45,
   "metadata": {},
   "outputs": [],
   "source": [
    "net.reset_map()"
   ]
  },
  {
   "cell_type": "code",
   "execution_count": 50,
   "metadata": {},
   "outputs": [
    {
     "data": {
      "text/plain": [
       "165"
      ]
     },
     "execution_count": 50,
     "metadata": {},
     "output_type": "execute_result"
    }
   ],
   "source": [
    "net.auto_fill(9999,81,81)"
   ]
  },
  {
   "cell_type": "code",
   "execution_count": 47,
   "metadata": {},
   "outputs": [],
   "source": [
    "result = net.batch_experiment(1000,9999,81,40)"
   ]
  },
  {
   "cell_type": "code",
   "execution_count": 48,
   "metadata": {},
   "outputs": [
    {
     "data": {
      "text/plain": [
       "43.696"
      ]
     },
     "execution_count": 48,
     "metadata": {},
     "output_type": "execute_result"
    }
   ],
   "source": [
    "sum(result[2])/len(result[2])"
   ]
  },
  {
   "cell_type": "code",
   "execution_count": 51,
   "metadata": {},
   "outputs": [
    {
     "name": "stderr",
     "output_type": "stream",
     "text": [
      "E:\\Softwares\\Anaconda3\\envs\\py3\\lib\\site-packages\\matplotlib\\cbook\\deprecation.py:107: MatplotlibDeprecationWarning: Adding an axes using the same arguments as a previous axes currently reuses the earlier instance.  In a future version, a new instance will always be created and returned.  Meanwhile, this warning can be suppressed, and the future behavior ensured, by passing a unique label to each axes instance.\n",
      "  warnings.warn(message, mplDeprecation, stacklevel=1)\n"
     ]
    },
    {
     "data": {
      "image/png": "[encoded data removed]",
      "text/plain": [
       "<Figure size 360x360 with 1 Axes>"
      ]
     },
     "metadata": {},
     "output_type": "display_data"
    }
   ],
   "source": [
    "net.show_map(text=True)"
   ]
  },
  {
   "cell_type": "code",
   "execution_count": 41,
   "metadata": {},
   "outputs": [
    {
     "data": {
      "text/plain": [
       "array([[24., 21., 21., 27., 28., 22., 17., 17., 13.],\n",
       "       [24., 19., 18., 18., 15., 15., 17., 17., 13.],\n",
       "       [24., 19., 18., 18.,  1.,  8.,  8.,  8., 13.],\n",
       "       [ 3.,  3., 18., 18.,  1.,  8.,  8.,  8., 11.],\n",
       "       [14., 14., 14., 14.,  1.,  9.,  9.,  9.,  9.],\n",
       "       [14., 14., 14., 14.,  1.,  9.,  9.,  9.,  9.],\n",
       "       [23., 23., 23., 20.,  1.,  9.,  9.,  9.,  9.],\n",
       "       [ 2.,  2., 26.,  4.,  4.,  4.,  6.,  6.,  6.],\n",
       "       [25., 16., 16., 16., 16.,  5., 10., 12.,  7.]])"
      ]
     },
     "execution_count": 41,
     "metadata": {},
     "output_type": "execute_result"
    }
   ],
   "source": [
    "net.map"
   ]
  },
  {
   "cell_type": "code",
   "execution_count": null,
   "metadata": {},
   "outputs": [],
   "source": []
  },
  {
   "cell_type": "code",
   "execution_count": null,
   "metadata": {},
   "outputs": [],
   "source": []
  },
  {
   "cell_type": "code",
   "execution_count": 744,
   "metadata": {},
   "outputs": [],
   "source": [
    "region = Region(9,9)\n",
    "exp_result = region.batch_experiment(1000,99999,81,81)"
   ]
  },
  {
   "cell_type": "code",
   "execution_count": 747,
   "metadata": {},
   "outputs": [
    {
     "data": {
      "text/plain": [
       "123.676"
      ]
     },
     "execution_count": 747,
     "metadata": {},
     "output_type": "execute_result"
    }
   ],
   "source": [
    "sum(exp_result[0])/len(exp_result[0])"
   ]
  },
  {
   "cell_type": "code",
   "execution_count": 738,
   "metadata": {
    "scrolled": true
   },
   "outputs": [
    {
     "data": {
      "text/plain": [
       "85"
      ]
     },
     "execution_count": 738,
     "metadata": {},
     "output_type": "execute_result"
    }
   ],
   "source": [
    "map1 = Region(9,9)\n",
    "map1.auto_fill(9999999999,81,81)\n"
   ]
  },
  {
   "cell_type": "code",
   "execution_count": 723,
   "metadata": {},
   "outputs": [
    {
     "data": {
      "text/plain": [
       "16"
      ]
     },
     "execution_count": 723,
     "metadata": {},
     "output_type": "execute_result"
    }
   ],
   "source": [
    "map1.get_tower_num()"
   ]
  },
  {
   "cell_type": "code",
   "execution_count": 724,
   "metadata": {},
   "outputs": [
    {
     "data": {
      "text/plain": [
       "81"
      ]
     },
     "execution_count": 724,
     "metadata": {},
     "output_type": "execute_result"
    }
   ],
   "source": [
    "map1.get_cover_area()"
   ]
  },
  {
   "cell_type": "code",
   "execution_count": 726,
   "metadata": {},
   "outputs": [
    {
     "name": "stderr",
     "output_type": "stream",
     "text": [
      "E:\\Softwares\\Anaconda3\\envs\\py3\\lib\\site-packages\\matplotlib\\cbook\\deprecation.py:107: MatplotlibDeprecationWarning: Adding an axes using the same arguments as a previous axes currently reuses the earlier instance.  In a future version, a new instance will always be created and returned.  Meanwhile, this warning can be suppressed, and the future behavior ensured, by passing a unique label to each axes instance.\n",
      "  warnings.warn(message, mplDeprecation, stacklevel=1)\n"
     ]
    },
    {
     "data": {
      "image/png": "[encoded data removed]",
      "text/plain": [
       "<Figure size 360x360 with 1 Axes>"
      ]
     },
     "metadata": {},
     "output_type": "display_data"
    }
   ],
   "source": [
    "map1.show_map()"
   ]
  },
  {
   "cell_type": "code",
   "execution_count": null,
   "metadata": {},
   "outputs": [],
   "source": []
  },
  {
   "cell_type": "code",
   "execution_count": null,
   "metadata": {},
   "outputs": [],
   "source": []
  },
  {
   "cell_type": "code",
   "execution_count": null,
   "metadata": {},
   "outputs": [],
   "source": []
  }
 ],
 "metadata": {
  "kernelspec": {
   "display_name": "Python 3",
   "language": "python",
   "name": "python3"
  },
  "language_info": {
   "codemirror_mode": {
    "name": "ipython",
    "version": 3
   },
   "file_extension": ".py",
   "mimetype": "text/x-python",
   "name": "python",
   "nbconvert_exporter": "python",
   "pygments_lexer": "ipython3",
   "version": "3.6.4"
  }
 },
 "nbformat": 4,
 "nbformat_minor": 2
}
